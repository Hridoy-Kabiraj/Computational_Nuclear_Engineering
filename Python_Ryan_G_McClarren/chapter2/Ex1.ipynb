{
 "cells": [
  {
   "cell_type": "code",
   "execution_count": 15,
   "id": "18331080",
   "metadata": {},
   "outputs": [
    {
     "name": "stdout",
     "output_type": "stream",
     "text": [
      "Your entered string is: Hi, Iam Hridoy Kabiraj.\n",
      "Reverse form is .jaribaK yodirH maI ,iH\n"
     ]
    }
   ],
   "source": [
    "string = str(input(\"Enter a string: \"))\n",
    "print(f\"Your entered string is: {string}\")\n",
    "out = \"\"\n",
    "\n",
    "for i in range(len(string)):\n",
    "    out += (string[len(string) - (i + 1)])\n",
    "print(f\"Reverse form is {out}\")"
   ]
  }
 ],
 "metadata": {
  "kernelspec": {
   "display_name": "torch-env",
   "language": "python",
   "name": "python3"
  },
  "language_info": {
   "codemirror_mode": {
    "name": "ipython",
    "version": 3
   },
   "file_extension": ".py",
   "mimetype": "text/x-python",
   "name": "python",
   "nbconvert_exporter": "python",
   "pygments_lexer": "ipython3",
   "version": "3.10.18"
  }
 },
 "nbformat": 4,
 "nbformat_minor": 5
}
