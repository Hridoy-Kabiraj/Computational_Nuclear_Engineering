{
 "cells": [
  {
   "cell_type": "code",
   "execution_count": 4,
   "id": "b0ebdc3b",
   "metadata": {},
   "outputs": [
    {
     "name": "stdout",
     "output_type": "stream",
     "text": [
      "In 1000000, the closest random number we got to 0.3 is 0.30000090826185966\n"
     ]
    }
   ],
   "source": [
    "import math\n",
    "import random\n",
    "\n",
    "iterations = 0\n",
    "guess = 0\n",
    "closest = 0\n",
    "target = 0.3\n",
    "while (guess != target) and (iterations < 10**6):\n",
    "    guess = random.random()\n",
    "    if (math.fabs(guess - target) < math.fabs(closest - target)):\n",
    "        closest = guess\n",
    "    iterations += 1\n",
    "print(f\"In {iterations}, the closest random number we got to {target} is {closest}\")"
   ]
  },
  {
   "cell_type": "code",
   "execution_count": 5,
   "id": "f3b7438a",
   "metadata": {},
   "outputs": [
    {
     "name": "stdout",
     "output_type": "stream",
     "text": [
      "It took 4902 iterations to get within 1e-06 of 0.3\n",
      "The number we ended with is 0.3000000949471985\n"
     ]
    }
   ],
   "source": [
    "import random\n",
    "import math\n",
    "\n",
    "interation = 0\n",
    "guess = 0\n",
    "tolerance = 1.0e-6\n",
    "while (math.fabs(guess - 0.3) > tolerance) and (interation < 10**6):\n",
    "    guess = random.random()\n",
    "    interation += 1\n",
    "print(f\"It took {interation} iterations to get within {tolerance} of 0.3\")\n",
    "print(f\"The number we ended with is {guess}\")"
   ]
  },
  {
   "cell_type": "code",
   "execution_count": 7,
   "id": "456b636f",
   "metadata": {},
   "outputs": [
    {
     "name": "stdout",
     "output_type": "stream",
     "text": [
      "False\n",
      "0.10000000000000000555\n"
     ]
    }
   ],
   "source": [
    "print((0.1 + 0.1 + 0.1) == 0.3)\n",
    "print(\"%.20f\"%0.1)"
   ]
  }
 ],
 "metadata": {
  "kernelspec": {
   "display_name": "torch-env",
   "language": "python",
   "name": "python3"
  },
  "language_info": {
   "codemirror_mode": {
    "name": "ipython",
    "version": 3
   },
   "file_extension": ".py",
   "mimetype": "text/x-python",
   "name": "python",
   "nbconvert_exporter": "python",
   "pygments_lexer": "ipython3",
   "version": "3.10.18"
  }
 },
 "nbformat": 4,
 "nbformat_minor": 5
}
