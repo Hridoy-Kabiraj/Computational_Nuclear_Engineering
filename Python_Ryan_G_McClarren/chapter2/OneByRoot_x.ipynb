{
 "cells": [
  {
   "cell_type": "code",
   "execution_count": 9,
   "id": "e12336f1",
   "metadata": {},
   "outputs": [
    {
     "name": "stdout",
     "output_type": "stream",
     "text": [
      "1/sqrt( 7.0 ) = 0.37796450186349156\n",
      "It took 13244071 guesses to get that answer.\n"
     ]
    }
   ],
   "source": [
    "import math\n",
    "x = float(input(\"Enter a number greater than 1: \"))\n",
    "if (x<=1):\n",
    "    print(\"I said a number greater than 1\")\n",
    "else:\n",
    "    converged = 0\n",
    "    answer = x #initial guess is x\n",
    "    eps = 1.0e-6 #the residual tolerance\n",
    "    converged = math.fabs(answer * math.sqrt(x) - 1.0) < eps\n",
    "    iteration = 0\n",
    "    while not(converged):\n",
    "        answer = answer - 0.5*eps\n",
    "        converged = math.fabs(answer * math.sqrt(x) - 1.0) < eps\n",
    "        iteration += 1\n",
    "    print(\"1/sqrt(\",x,\") =\",answer)\n",
    "    print(\"It took\",iteration,\"guesses to get that answer.\")\n"
   ]
  },
  {
   "cell_type": "code",
   "execution_count": 13,
   "id": "3443e6fe",
   "metadata": {},
   "outputs": [
    {
     "name": "stdout",
     "output_type": "stream",
     "text": [
      "1/sqrt(7.0) = 0.3779645647321428\n",
      "It took 15 to get the answer.\n"
     ]
    }
   ],
   "source": [
    "import math\n",
    "x = float(input(\"Enter a number greater than 1: \"))\n",
    "\n",
    "if (x<=1):\n",
    "    print(\"I said a number greater than 1\")\n",
    "else:\n",
    "    converged = 0\n",
    "    upper_bound = x\n",
    "    lower_bound = 1.0 / x\n",
    "    answer = (upper_bound + lower_bound) * 0.5\n",
    "    eps = 1.0e-6\n",
    "    converged = math.fabs(answer * math.sqrt(x) - 1.0) < eps\n",
    "    iteration = 0\n",
    "    while not(converged):\n",
    "        mid = answer\n",
    "        if (mid < 1.0/math.sqrt(x)):\n",
    "            lower_bound = mid\n",
    "        else:\n",
    "            upper_bound = mid\n",
    "        answer = (upper_bound + lower_bound) * 0.5\n",
    "        converged  = (math.fabs(answer * math.sqrt(x) - 1.0) < eps)\n",
    "        iteration += 1    \n",
    "    print(f\"1/sqrt({x}) = {answer}\")\n",
    "    print(f\"It took {iteration} to get the answer.\")"
   ]
  }
 ],
 "metadata": {
  "kernelspec": {
   "display_name": "torch-env",
   "language": "python",
   "name": "python3"
  },
  "language_info": {
   "codemirror_mode": {
    "name": "ipython",
    "version": 3
   },
   "file_extension": ".py",
   "mimetype": "text/x-python",
   "name": "python",
   "nbconvert_exporter": "python",
   "pygments_lexer": "ipython3",
   "version": "3.10.18"
  }
 },
 "nbformat": 4,
 "nbformat_minor": 5
}
