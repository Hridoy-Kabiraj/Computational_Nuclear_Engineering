{
 "cells": [
  {
   "cell_type": "code",
   "execution_count": 10,
   "id": "60586d3c",
   "metadata": {},
   "outputs": [
    {
     "name": "stdout",
     "output_type": "stream",
     "text": [
      "The lemgth of hypotenuse is 21.400934559032695\n",
      "The angle are 52.594643368591456° and 37.40535663140856°\n",
      "52.594643368591456° + 37.40535663140856° = 90.00000000000001°\n"
     ]
    }
   ],
   "source": [
    "import math \n",
    "arm1 = float(input(\"Enter the length of 1st arm: \"))\n",
    "arm2 = float(input(\"Enter the length of 2nd arm: \"))\n",
    "\n",
    "arm3 = math.sqrt(arm1**2 + arm2**2)\n",
    "print(f\"The lemgth of hypotenuse is {arm3}\")\n",
    "\n",
    "angle1 = math.asin(arm2/arm3)*180/math.pi\n",
    "angle2 = math.asin(arm1/arm3)*180/math.pi\n",
    "\n",
    "print(f\"The angle are {angle1}° and {angle2}°\")\n",
    "print(f\"{angle1}° + {angle2}° = {angle1+angle2}°\")\n",
    "\n"
   ]
  }
 ],
 "metadata": {
  "kernelspec": {
   "display_name": "torch-env",
   "language": "python",
   "name": "python3"
  },
  "language_info": {
   "codemirror_mode": {
    "name": "ipython",
    "version": 3
   },
   "file_extension": ".py",
   "mimetype": "text/x-python",
   "name": "python",
   "nbconvert_exporter": "python",
   "pygments_lexer": "ipython3",
   "version": "3.10.18"
  }
 },
 "nbformat": 4,
 "nbformat_minor": 5
}
