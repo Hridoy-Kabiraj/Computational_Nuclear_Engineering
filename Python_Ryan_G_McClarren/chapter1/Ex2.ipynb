{
 "cells": [
  {
   "cell_type": "code",
   "execution_count": 29,
   "id": "d8ad1795",
   "metadata": {},
   "outputs": [
    {
     "name": "stdout",
     "output_type": "stream",
     "text": [
      "102 can be devided by 2\n",
      "102/2 = 51.0\n",
      "So, 102 is not a prime number.\n"
     ]
    }
   ],
   "source": [
    "num = int(input(\"Enter an integer number: \"))\n",
    "\n",
    "isprime = 1\n",
    "i = 2\n",
    "\n",
    "while (i <= num/2):\n",
    "    \n",
    "    if num % i == 0:\n",
    "        isprime = 0\n",
    "        print(f\"{num} can be devided by {i}\")\n",
    "        print(f\"{num}/{i} = {num/i}\")\n",
    "        break\n",
    "    i += 1\n",
    "\n",
    "if num <= 1:\n",
    "    print(f\"{num} is not a prime number.\")\n",
    "elif isprime == 1:\n",
    "    print(f\"{num} is a prime number.\")\n",
    "else:\n",
    "    print(f\"So, {num} is not a prime number.\")\n",
    "\n",
    "    \n",
    "\n"
   ]
  }
 ],
 "metadata": {
  "kernelspec": {
   "display_name": "torch-env",
   "language": "python",
   "name": "python3"
  },
  "language_info": {
   "codemirror_mode": {
    "name": "ipython",
    "version": 3
   },
   "file_extension": ".py",
   "mimetype": "text/x-python",
   "name": "python",
   "nbconvert_exporter": "python",
   "pygments_lexer": "ipython3",
   "version": "3.10.18"
  }
 },
 "nbformat": 4,
 "nbformat_minor": 5
}
