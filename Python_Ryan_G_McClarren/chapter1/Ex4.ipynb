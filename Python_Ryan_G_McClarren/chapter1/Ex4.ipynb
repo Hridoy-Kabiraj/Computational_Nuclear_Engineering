{
 "cells": [
  {
   "cell_type": "code",
   "execution_count": 3,
   "id": "9759667e",
   "metadata": {},
   "outputs": [
    {
     "name": "stdout",
     "output_type": "stream",
     "text": [
      "Mass of the ball at a velocity of 46.97m/s is 0.1450000000000018\n",
      "For mass 1.45 the reqired velocity is 298289729.449314m/s\n"
     ]
    }
   ],
   "source": [
    "import math\n",
    "\n",
    "rest_mass = 0.145\n",
    "c = 2.99792458e8\n",
    "v1 = 46.97\n",
    "\n",
    "gamma = 1 / math.sqrt(1 - (v1**2/c**2))\n",
    "mass1 = rest_mass * gamma\n",
    "print(f\"Mass of the ball at a velocity of {v1}m/s is {mass1}\")\n",
    "\n",
    "\n",
    "mass2 = 1.45\n",
    "v2 = c * math.sqrt(1 - (rest_mass**2 / mass2**2))\n",
    "print(f\"For mass {mass2} the reqired velocity is {v2}m/s\")\n"
   ]
  }
 ],
 "metadata": {
  "kernelspec": {
   "display_name": "torch-env",
   "language": "python",
   "name": "python3"
  },
  "language_info": {
   "codemirror_mode": {
    "name": "ipython",
    "version": 3
   },
   "file_extension": ".py",
   "mimetype": "text/x-python",
   "name": "python",
   "nbconvert_exporter": "python",
   "pygments_lexer": "ipython3",
   "version": "3.10.18"
  }
 },
 "nbformat": 4,
 "nbformat_minor": 5
}
