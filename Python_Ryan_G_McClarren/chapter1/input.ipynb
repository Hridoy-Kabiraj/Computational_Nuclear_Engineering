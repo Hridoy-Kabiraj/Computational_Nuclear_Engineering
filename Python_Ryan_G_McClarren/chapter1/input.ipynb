{
 "cells": [
  {
   "cell_type": "code",
   "execution_count": 3,
   "id": "ad7e8dc6",
   "metadata": {},
   "outputs": [
    {
     "name": "stdout",
     "output_type": "stream",
     "text": [
      "2 * 5.0 = 10.0\n"
     ]
    }
   ],
   "source": [
    "user_value = input(\"Enter a number: \") \n",
    "user_value = float(user_value) \n",
    "print(\"2 *\", user_value,\"=\", 2*user_value)"
   ]
  }
 ],
 "metadata": {
  "kernelspec": {
   "display_name": "torch-env",
   "language": "python",
   "name": "python3"
  },
  "language_info": {
   "codemirror_mode": {
    "name": "ipython",
    "version": 3
   },
   "file_extension": ".py",
   "mimetype": "text/x-python",
   "name": "python",
   "nbconvert_exporter": "python",
   "pygments_lexer": "ipython3",
   "version": "3.10.18"
  }
 },
 "nbformat": 4,
 "nbformat_minor": 5
}
