{
 "cells": [
  {
   "cell_type": "code",
   "execution_count": 7,
   "id": "e9d6e918",
   "metadata": {},
   "outputs": [
    {
     "name": "stdout",
     "output_type": "stream",
     "text": [
      "Enter the coefficients: \n",
      "B must be 0 and A must not be 0\n",
      "Your entered coefficients are A=1.0, B=0.0, C=6.0, D=7.0\n",
      "The root is (-0.9999999999999998+4.440892098500622e-16j)\n",
      "The residual is 4.803559250984062e-15\n"
     ]
    }
   ],
   "source": [
    "import cmath\n",
    "import math\n",
    "\n",
    "print(\"Enter the coefficients: \")\n",
    "print(\"B must be 0 and A must not be 0\")\n",
    "A = float(input())\n",
    "B = float(input())\n",
    "C = float(input())\n",
    "D = float(input())\n",
    "print(f\"Your entered coefficients are A={A}, B={B}, C={C}, D={D}\")\n",
    "\n",
    "if A == 0 or B != 0:\n",
    "    print(f\"The equation can't be solved for A = 0 or B != 0\")\n",
    "else:\n",
    "    b = cmath.sqrt(C/(A*3))\n",
    "    c = (-D/(A*2))**(1/3)\n",
    "\n",
    "    d = (c**3 + cmath.sqrt(b**6 + c**6))**(1/3)\n",
    "\n",
    "    x = d - (b**2)/d\n",
    "    print(f\"The root is {x}\")\n",
    "\n",
    "    residual = A*x**3 + C*x + D\n",
    "    print(f\"The residual is {math.sqrt(residual.real**2 + residual.imag**2)}\")\n",
    "\n"
   ]
  }
 ],
 "metadata": {
  "kernelspec": {
   "display_name": "torch-env",
   "language": "python",
   "name": "python3"
  },
  "language_info": {
   "codemirror_mode": {
    "name": "ipython",
    "version": 3
   },
   "file_extension": ".py",
   "mimetype": "text/x-python",
   "name": "python",
   "nbconvert_exporter": "python",
   "pygments_lexer": "ipython3",
   "version": "3.10.18"
  }
 },
 "nbformat": 4,
 "nbformat_minor": 5
}
